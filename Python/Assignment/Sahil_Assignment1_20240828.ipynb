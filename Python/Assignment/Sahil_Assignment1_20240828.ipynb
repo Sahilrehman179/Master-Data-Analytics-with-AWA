{
 "cells": [
  {
   "cell_type": "markdown",
   "id": "c32c4b92-12bc-4221-9a4e-a00c4ff9eec5",
   "metadata": {},
   "source": [
    "## Name : Sahil Rehman                \n",
    "\n",
    "## Date : 28/Aug/2024"
   ]
  },
  {
   "cell_type": "markdown",
   "id": "b465db22-090d-472d-a0fa-3e4f245fff05",
   "metadata": {},
   "source": [
    "# Python Assignment: Variables, Operators, and Type Casting "
   ]
  },
  {
   "cell_type": "markdown",
   "id": "8b5fa531-ffa6-4c55-94a4-dbec07fd1aff",
   "metadata": {},
   "source": [
    "## 1 Understanding Variables\n",
    "a. Define a variable in Python. Provide an example of how to create a variable that stores your name.\n",
    "\n",
    "b. What is the difference between a variable and a constant? Can we have constants in Python?"
   ]
  },
  {
   "cell_type": "markdown",
   "id": "f7905208-a6e8-4653-befa-e3dd5e726bee",
   "metadata": {},
   "source": [
    "a) Variable: A variable is a reserved memory area that holds any given data value. Put another way, a variable is something that stores value. Also, if we are using Python, we do not need to declare a variable."
   ]
  },
  {
   "cell_type": "code",
   "execution_count": 221,
   "id": "5d0b4b79-0aff-4418-8180-b56b69f6cd7a",
   "metadata": {},
   "outputs": [
    {
     "data": {
      "text/plain": [
       "'Name'"
      ]
     },
     "execution_count": 221,
     "metadata": {},
     "output_type": "execute_result"
    }
   ],
   "source": [
    "#Examle\n",
    "name = \"Name\"\n",
    "name"
   ]
  },
  {
   "cell_type": "markdown",
   "id": "fcc585cc-6442-4676-bef3-30b2f75a5269",
   "metadata": {},
   "source": [
    " b) a variable holds data in memory and may be updated accordingly, whereas a constant's name cannot be changed if it has any value.\n",
    " \n",
    " In Python, constants cannot be created directly, but they can be used using a library called pconst."
   ]
  },
  {
   "cell_type": "code",
   "execution_count": 26,
   "id": "b5071055-ed6c-49a4-ad44-bd610837c613",
   "metadata": {},
   "outputs": [
    {
     "name": "stdout",
     "output_type": "stream",
     "text": [
      "Requirement already satisfied: pconst in c:\\users\\nidhi rawat\\anaconda3\\lib\\site-packages (1.1.2)\n",
      "Note: you may need to restart the kernel to use updated packages.\n"
     ]
    }
   ],
   "source": [
    "pip install pconst"
   ]
  },
  {
   "cell_type": "code",
   "execution_count": 30,
   "id": "cc42db33-05b3-4bdb-a6e6-b2549fddc0cf",
   "metadata": {},
   "outputs": [
    {
     "name": "stdout",
     "output_type": "stream",
     "text": [
      "Sahil\n",
      "Sahil Rehman\n"
     ]
    }
   ],
   "source": [
    "from pconst import const \n",
    " \n",
    "const.NAME = \"Sahil\"   \n",
    "const.FULL_NAME = 'Sahil Rehman'\n",
    "\n",
    "print(const.NAME) \n",
    "print(const.FULL_NAME)"
   ]
  },
  {
   "cell_type": "markdown",
   "id": "33c51d1d-4d96-40cc-aa17-7dd224ca0b02",
   "metadata": {},
   "source": [
    "## 2 Working with Different Data Types.\n",
    "a. Create variables of the following types in Python:\n",
    "\n",
    "1. Integer\n",
    "2. Float\n",
    "3. String\n",
    "4. Boolean\n",
    "\n",
    "b. Write a Python script to display the type of each variable you created."
   ]
  },
  {
   "cell_type": "code",
   "execution_count": 39,
   "id": "fd903929-cf0e-47cb-86d6-4669c52574a1",
   "metadata": {},
   "outputs": [],
   "source": [
    "a = 9\n",
    "b = 9.6\n",
    "c = \"Python\"\n",
    "d = True\n",
    "\n",
    "#a, b, c and d are variable\n"
   ]
  },
  {
   "cell_type": "code",
   "execution_count": 41,
   "id": "cae8e147-fb7c-4079-af8a-d17ff586cd6a",
   "metadata": {},
   "outputs": [
    {
     "data": {
      "text/plain": [
       "int"
      ]
     },
     "execution_count": 41,
     "metadata": {},
     "output_type": "execute_result"
    }
   ],
   "source": [
    "type(a)"
   ]
  },
  {
   "cell_type": "code",
   "execution_count": 43,
   "id": "c32ee225-20f3-434b-a727-1725bd5a80e2",
   "metadata": {},
   "outputs": [
    {
     "data": {
      "text/plain": [
       "float"
      ]
     },
     "execution_count": 43,
     "metadata": {},
     "output_type": "execute_result"
    }
   ],
   "source": [
    "type(b)"
   ]
  },
  {
   "cell_type": "code",
   "execution_count": 45,
   "id": "1b254c15-c318-427d-9614-48c3a979c097",
   "metadata": {},
   "outputs": [
    {
     "data": {
      "text/plain": [
       "str"
      ]
     },
     "execution_count": 45,
     "metadata": {},
     "output_type": "execute_result"
    }
   ],
   "source": [
    "type(c)"
   ]
  },
  {
   "cell_type": "code",
   "execution_count": 47,
   "id": "eac37ea6-01cc-4ad9-9aa6-7d807bb82ccf",
   "metadata": {},
   "outputs": [
    {
     "data": {
      "text/plain": [
       "bool"
      ]
     },
     "execution_count": 47,
     "metadata": {},
     "output_type": "execute_result"
    }
   ],
   "source": [
    "type(d)"
   ]
  },
  {
   "cell_type": "markdown",
   "id": "8f4496a3-9e2e-4b30-b88d-16cb117474d3",
   "metadata": {},
   "source": [
    "## 3 Arithmetic Operators\n",
    "a. Explain the following arithmetic operators with examples:\n",
    "\n",
    "1. Addition (`+`)\n",
    "2. Subtraction (`-`)\n",
    "3. Multiplication (``)\n",
    "4. Division (`/`)\n",
    "5. Floor Division (`//`)\n",
    "6. Modulus (`%`)\n",
    "7. Exponentiation (``)\n",
    "\n",
    "b. Write a Python script to calculate the area of a rectangle using variables `length`\n",
    "and `width` with values 5 and 10, respectively. Use the multiplication operator."
   ]
  },
  {
   "cell_type": "markdown",
   "id": "c5386691-24d2-4199-9efa-b38e22fb4849",
   "metadata": {},
   "source": [
    " #### Arithmetic operators : arithmetic operators are used to perform mathematical operations on numbers"
   ]
  },
  {
   "cell_type": "code",
   "execution_count": 3,
   "id": "ccb6bfa2-b44e-48d7-8a77-eb6d94d588e8",
   "metadata": {},
   "outputs": [
    {
     "data": {
      "text/plain": [
       "22"
      ]
     },
     "execution_count": 3,
     "metadata": {},
     "output_type": "execute_result"
    }
   ],
   "source": [
    "# (+) Addition\n",
    "# '+' operator is used for addition\n",
    "a = 10\n",
    "b = 12\n",
    "c = a + b\n",
    "c"
   ]
  },
  {
   "cell_type": "code",
   "execution_count": 5,
   "id": "f6c24485-ee67-441f-b5eb-15aafe4a2ae5",
   "metadata": {},
   "outputs": [
    {
     "data": {
      "text/plain": [
       "11"
      ]
     },
     "execution_count": 5,
     "metadata": {},
     "output_type": "execute_result"
    }
   ],
   "source": [
    "# (-) Subtraction\n",
    "# '-' operator is used for subtraction\n",
    "a = 23\n",
    "b = 12\n",
    "c = a - b\n",
    "c"
   ]
  },
  {
   "cell_type": "code",
   "execution_count": 58,
   "id": "2584438f-498a-474e-b722-194a168c459f",
   "metadata": {},
   "outputs": [
    {
     "data": {
      "text/plain": [
       "16"
      ]
     },
     "execution_count": 58,
     "metadata": {},
     "output_type": "execute_result"
    }
   ],
   "source": [
    "# (*) Multiplication\n",
    "# '*' operator is used for multiplication\n",
    "c= 8 * 2\n",
    "c"
   ]
  },
  {
   "cell_type": "code",
   "execution_count": 9,
   "id": "bc64df5b-3150-4dbd-ab83-61f6655be61e",
   "metadata": {},
   "outputs": [
    {
     "data": {
      "text/plain": [
       "4.0"
      ]
     },
     "execution_count": 9,
     "metadata": {},
     "output_type": "execute_result"
    }
   ],
   "source": [
    "# (/)Division\n",
    "# '/' operator is used for division\n",
    "a = 16\n",
    "b = 4\n",
    "c = a / b\n",
    "c"
   ]
  },
  {
   "cell_type": "code",
   "execution_count": 11,
   "id": "844c6634-d49a-4349-bad6-9e12842757ca",
   "metadata": {},
   "outputs": [
    {
     "data": {
      "text/plain": [
       "2"
      ]
     },
     "execution_count": 11,
     "metadata": {},
     "output_type": "execute_result"
    }
   ],
   "source": [
    "# Floor Division\n",
    "# '//' When two numbers are divided, the result is rounded to the closest whole number..\n",
    "a = 9\n",
    "b = 4\n",
    "c = a // b\n",
    "c\n",
    "# 9 divided by 4 is 2.25, so the floor division result is 2"
   ]
  },
  {
   "cell_type": "code",
   "execution_count": 13,
   "id": "6ef06905-68b7-4b3b-83d7-7070e07e03d5",
   "metadata": {},
   "outputs": [
    {
     "data": {
      "text/plain": [
       "1"
      ]
     },
     "execution_count": 13,
     "metadata": {},
     "output_type": "execute_result"
    }
   ],
   "source": [
    "# (%) Modulus \n",
    "# '%' the remainder of the division of one number by another.\n",
    "a = 9\n",
    "b = 4\n",
    "c = a % b\n",
    "c"
   ]
  },
  {
   "cell_type": "code",
   "execution_count": 15,
   "id": "34e0818e-2b08-44ff-a9e9-15d2eca72762",
   "metadata": {},
   "outputs": [
    {
     "data": {
      "text/plain": [
       "25"
      ]
     },
     "execution_count": 15,
     "metadata": {},
     "output_type": "execute_result"
    }
   ],
   "source": [
    "# (**) Exponentiation is \n",
    "# '**' the way one raises a number to the power of another.\n",
    "a = 5\n",
    "b = 2\n",
    "c = a ** b\n",
    "c"
   ]
  },
  {
   "cell_type": "code",
   "execution_count": 74,
   "id": "3536ae8f-588f-45d9-adc4-d538b55d1ea6",
   "metadata": {},
   "outputs": [
    {
     "name": "stdout",
     "output_type": "stream",
     "text": [
      "Area of the Rectangle : 50\n"
     ]
    }
   ],
   "source": [
    "# b) Area of the rectangle using length=5 breadth=10 \n",
    "\n",
    "length=5\n",
    "breadth=10\n",
    "area = length * breadth\n",
    "print(\"Area of the Rectangle :\",area)"
   ]
  },
  {
   "cell_type": "markdown",
   "id": "7afff760-246c-47a1-9405-97ee37411d53",
   "metadata": {},
   "source": [
    "## 4 Comparison and Logical Operators\n",
    "\n",
    "\n",
    "a. Explain the following comparison operators with examples:\r\n",
    "1. Equal to (`==`)\r\n",
    "2. Not equal to (`!=`)\r\n",
    "3. Greater than (`>`)\r\n",
    "4. Less than (`<`)\r\n",
    "5. Greater than or equal to (`>=`)\r\n",
    "6. Less than or equal to\n",
    "and even."
   ]
  },
  {
   "cell_type": "markdown",
   "id": "0ba9c2f5-9d22-4fd1-91c4-5ccbad86738d",
   "metadata": {},
   "source": [
    "b. Using logical operators (`and`, `or`, `not`), write a Python script that checks if a\n",
    "number is positive and even."
   ]
  },
  {
   "cell_type": "markdown",
   "id": "c79ad33e-32ff-4c40-96ca-bd67cd946f4f",
   "metadata": {},
   "source": [
    "#### Comparison operators : Comparison operators are used to compare two values. They return a Boolean value (True or False) based on the result of the comparison.\n",
    "\n",
    "#### Logical operators : Logical operators are used to combine multiple Boolean expressions and return a Boolean result based on the combination.\n"
   ]
  },
  {
   "cell_type": "code",
   "execution_count": 108,
   "id": "ba55dc5d-8602-4117-b2e0-0ff46fe36ecb",
   "metadata": {},
   "outputs": [
    {
     "data": {
      "text/plain": [
       "True"
      ]
     },
     "execution_count": 108,
     "metadata": {},
     "output_type": "execute_result"
    }
   ],
   "source": [
    "# (==) operator is used to compare two values for equality\n",
    "\n",
    "a = 3\n",
    "b = 3\n",
    "c = (a==b)\n",
    "c\n",
    "\n",
    "# It returns True value as a is equal b."
   ]
  },
  {
   "cell_type": "code",
   "execution_count": 114,
   "id": "d490653e-ce34-4c19-a2b1-1fde71c0b25a",
   "metadata": {},
   "outputs": [
    {
     "data": {
      "text/plain": [
       "True"
      ]
     },
     "execution_count": 114,
     "metadata": {},
     "output_type": "execute_result"
    }
   ],
   "source": [
    "# (!=) operator is used to compare two values to determine if they are not equal. \n",
    "\n",
    "a = 4\n",
    "b = 8\n",
    "c = (a !=b )\n",
    "c\n",
    "\n",
    "# It returns True value as a is not equal b."
   ]
  },
  {
   "cell_type": "code",
   "execution_count": 132,
   "id": "0ed3fa27-0372-4e9c-9599-10310ce48a78",
   "metadata": {},
   "outputs": [
    {
     "data": {
      "text/plain": [
       "False"
      ]
     },
     "execution_count": 132,
     "metadata": {},
     "output_type": "execute_result"
    }
   ],
   "source": [
    "# (>) operator is used to compare two values to determine if the value on the left is greater than the value on the right\n",
    "\n",
    "a = 5\n",
    "b = 8\n",
    "c = (a > b)\n",
    "c\n"
   ]
  },
  {
   "cell_type": "code",
   "execution_count": 154,
   "id": "59d8aacd-5c9b-4066-ad2d-bfcc8aad677b",
   "metadata": {},
   "outputs": [
    {
     "data": {
      "text/plain": [
       "True"
      ]
     },
     "execution_count": 154,
     "metadata": {},
     "output_type": "execute_result"
    }
   ],
   "source": [
    "# (<) operator is used to compare two values to determine if the value on the right is greater than the value on the left\n",
    "a = 5\n",
    "b = 8\n",
    "c = (b > a)\n",
    "c"
   ]
  },
  {
   "cell_type": "code",
   "execution_count": 156,
   "id": "b157b469-25b6-44f4-8895-d48779401ed4",
   "metadata": {},
   "outputs": [
    {
     "data": {
      "text/plain": [
       "True"
      ]
     },
     "execution_count": 156,
     "metadata": {},
     "output_type": "execute_result"
    }
   ],
   "source": [
    "# (>=) operator is used to compare two values to determine if the value on the left is greater than or equal to the value on the right.\n",
    "a = 15\n",
    "b = 8\n",
    "c = (a >= b)\n",
    "c\n",
    "\n",
    "#. It returns True because the \"a\" value is greater than or equal to the \"b\" value."
   ]
  },
  {
   "cell_type": "code",
   "execution_count": 158,
   "id": "10557550-a66c-4fb6-a514-e6f7c21c2feb",
   "metadata": {},
   "outputs": [
    {
     "data": {
      "text/plain": [
       "True"
      ]
     },
     "execution_count": 158,
     "metadata": {},
     "output_type": "execute_result"
    }
   ],
   "source": [
    "# (<=) operator is used to compare two values to determine if the value on the left is less than or equal to the value on the right.\n",
    "a = 15\n",
    "b = 18\n",
    "c = (a <= b)\n",
    "c\n",
    "\n",
    "#. It returns True because the \"b\" value is greater than or equal to the \"a\" value."
   ]
  },
  {
   "cell_type": "markdown",
   "id": "eb42b9f2-f70b-4fba-92a1-ccce7bc0d241",
   "metadata": {},
   "source": [
    "#### b.  Using logical operators (`and`, `or`, `not`), write a Python script that checks if a number is positive and even."
   ]
  },
  {
   "cell_type": "code",
   "execution_count": 19,
   "id": "7d09ed6c-cba5-4ab7-875f-a9e6da70263b",
   "metadata": {},
   "outputs": [
    {
     "name": "stdout",
     "output_type": "stream",
     "text": [
      "The number is not positive and even\n"
     ]
    }
   ],
   "source": [
    "#Example of AND\n",
    "num = 27\n",
    "\n",
    "if num > 0 and num % 2==0:\n",
    "    print(\"The number is positive and even\")\n",
    "else:\n",
    "    print(\"The number is not positive and even\")"
   ]
  },
  {
   "cell_type": "code",
   "execution_count": 21,
   "id": "812f35f3-875c-4cb5-8ad3-64f19e570f39",
   "metadata": {},
   "outputs": [
    {
     "name": "stdout",
     "output_type": "stream",
     "text": [
      "The Number is positive or even\n"
     ]
    }
   ],
   "source": [
    "#Example of OR\n",
    "\n",
    "if num > 0 or num % 2==0:\n",
    "    print(\"The Number is positive or even\")\n",
    "else:\n",
    "    print(\"The Number is nor positive or even\")"
   ]
  },
  {
   "cell_type": "code",
   "execution_count": 25,
   "id": "42894fc2-a127-4418-944f-9525fb93ea91",
   "metadata": {},
   "outputs": [
    {
     "name": "stdout",
     "output_type": "stream",
     "text": [
      "is not positive and even\n"
     ]
    }
   ],
   "source": [
    "#Example of Not\n",
    "\n",
    "if not (num <= 0 or num % 2 != 0):\n",
    "    print(\"is positive and even\")\n",
    "else:\n",
    "    print(\"is not positive and even\")"
   ]
  },
  {
   "cell_type": "markdown",
   "id": "d770ee0d-c785-4c16-bfdd-ccd657f439a4",
   "metadata": {},
   "source": [
    "## 5 Type Casting in Python\n",
    "\n",
    "a. What is type casting? Explain the difference between implicit and explicit type casting with examples.\n",
    "\n",
    "b. Write a Python script that:\n",
    "1. Converts a float to an integer.\n",
    "2. Converts an integer to a string.\n",
    "3. Converts a string to a float.\n"
   ]
  },
  {
   "cell_type": "code",
   "execution_count": 191,
   "id": "70063e10-4ed6-415f-8440-7ff33ed0e434",
   "metadata": {},
   "outputs": [
    {
     "data": {
      "text/plain": [
       "int"
      ]
     },
     "execution_count": 191,
     "metadata": {},
     "output_type": "execute_result"
    }
   ],
   "source": [
    "#Implicit\n",
    "a=6\n",
    "type(a)\n",
    "\n",
    "#here we automatically get the type of our variable as integer"
   ]
  },
  {
   "cell_type": "code",
   "execution_count": 1,
   "id": "f0fd5bd0-d610-4256-a60d-ba4f34738014",
   "metadata": {},
   "outputs": [
    {
     "data": {
      "text/plain": [
       "'UK16FD7753'"
      ]
     },
     "execution_count": 1,
     "metadata": {},
     "output_type": "execute_result"
    }
   ],
   "source": [
    "# Explicit\n",
    "a = \"UK16FD\"\n",
    "b = 7753\n",
    "c = a + str(b)\n",
    "c\n",
    "\n",
    "#here we are converrting year which is a integer to str"
   ]
  },
  {
   "cell_type": "code",
   "execution_count": 201,
   "id": "5e0d857d-9d0f-49a9-b83d-9ec108775d51",
   "metadata": {},
   "outputs": [
    {
     "name": "stdout",
     "output_type": "stream",
     "text": [
      "11\n"
     ]
    }
   ],
   "source": [
    "#b Converts a float to an integer.\n",
    "a = 3.5 \n",
    "b = 8\n",
    "c = int(a)+b\n",
    "print(c)\n"
   ]
  },
  {
   "cell_type": "code",
   "execution_count": 205,
   "id": "3b02845a-1b92-4950-b32c-3f710567a114",
   "metadata": {},
   "outputs": [
    {
     "name": "stdout",
     "output_type": "stream",
     "text": [
      "Result 10\n"
     ]
    }
   ],
   "source": [
    "#Converts an integer to a string\n",
    "a = 10\n",
    "print(\"Result\",str(a))"
   ]
  },
  {
   "cell_type": "code",
   "execution_count": 209,
   "id": "a2911020-3257-4c91-b120-0b41fdc2e42e",
   "metadata": {},
   "outputs": [
    {
     "ename": "ValueError",
     "evalue": "could not convert string to float: 'UK16D'",
     "output_type": "error",
     "traceback": [
      "\u001b[1;31m---------------------------------------------------------------------------\u001b[0m",
      "\u001b[1;31mValueError\u001b[0m                                Traceback (most recent call last)",
      "Cell \u001b[1;32mIn[209], line 4\u001b[0m\n\u001b[0;32m      2\u001b[0m a \u001b[38;5;241m=\u001b[39m \u001b[38;5;124m\"\u001b[39m\u001b[38;5;124mUK16D\u001b[39m\u001b[38;5;124m\"\u001b[39m\n\u001b[0;32m      3\u001b[0m b \u001b[38;5;241m=\u001b[39m \u001b[38;5;241m77.53\u001b[39m\n\u001b[1;32m----> 4\u001b[0m c \u001b[38;5;241m=\u001b[39m \u001b[38;5;28mfloat\u001b[39m(a) \u001b[38;5;241m+\u001b[39m (b)\n\u001b[0;32m      5\u001b[0m c\n",
      "\u001b[1;31mValueError\u001b[0m: could not convert string to float: 'UK16D'"
     ]
    }
   ],
   "source": [
    "#Converts a string to a float.\n",
    "a = \"UK16D\"\n",
    "b = 77.53\n",
    "c = float(a) + (b)\n",
    "c\n",
    "# we cannot convert string to float"
   ]
  },
  {
   "cell_type": "markdown",
   "id": "a7cd83a9-82a2-4438-ab3a-462c45a777d9",
   "metadata": {},
   "source": [
    "## 6 Practical Exercise: Mini Calculator\n",
    "\n",
    "Write a Python script that asks the user to input two numbers and then:\n",
    "\n",
    "1. Adds the two numbers and prints the result.\n",
    "2. Subtracts the second number from the first and prints the result.\n",
    "3. Multiplies the two numbers and prints the result.\n",
    "4. Divides the first number by the second and prints the result (handle division by zero).\n",
    "5. Converts the sum of the numbers to a string and prints the type of the result."
   ]
  },
  {
   "cell_type": "code",
   "execution_count": 3,
   "id": "25ab441c-1e38-417a-b386-1dbe1c680ca9",
   "metadata": {},
   "outputs": [
    {
     "name": "stdin",
     "output_type": "stream",
     "text": [
      "Enter 1st number 7\n",
      "Enter 2nd number 0\n"
     ]
    },
    {
     "name": "stdout",
     "output_type": "stream",
     "text": [
      "Addtion : 7\n",
      "Subtraction : 7\n",
      "Multiplication : 0\n",
      "ZeroDivisionError: division by zero\n",
      "Conversion to string <class 'str'>\n"
     ]
    }
   ],
   "source": [
    "a = int(input(\"Enter 1st number\"))\n",
    "b = int(input(\"Enter 2nd number\"))\n",
    "print(\"Addtion :\",a + b)  \n",
    "print(\"Subtraction :\",a - b)\n",
    "print(\"Multiplication :\",a * b)\n",
    "\n",
    "try:\n",
    "    print(\"Division :\",a / b)\n",
    "except ZeroDivisionError:\n",
    "    print(\"ZeroDivisionError: division by zero :\")\n",
    "print(\"Conversion to string\",type(str(a + b)))\n"
   ]
  },
  {
   "cell_type": "code",
   "execution_count": null,
   "id": "bdc76d38-d41c-4b13-845a-a1ad76dd1a24",
   "metadata": {},
   "outputs": [],
   "source": []
  },
  {
   "cell_type": "code",
   "execution_count": null,
   "id": "775369ee-1baa-4b95-bb0d-e9f7d6e49b88",
   "metadata": {},
   "outputs": [],
   "source": []
  }
 ],
 "metadata": {
  "kernelspec": {
   "display_name": "Python 3 (ipykernel)",
   "language": "python",
   "name": "python3"
  },
  "language_info": {
   "codemirror_mode": {
    "name": "ipython",
    "version": 3
   },
   "file_extension": ".py",
   "mimetype": "text/x-python",
   "name": "python",
   "nbconvert_exporter": "python",
   "pygments_lexer": "ipython3",
   "version": "3.12.4"
  }
 },
 "nbformat": 4,
 "nbformat_minor": 5
}
